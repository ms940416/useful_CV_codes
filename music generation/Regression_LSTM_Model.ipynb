{
 "cells": [
  {
   "cell_type": "code",
   "execution_count": 1,
   "metadata": {
    "collapsed": false
   },
   "outputs": [
    {
     "name": "stderr",
     "output_type": "stream",
     "text": [
      "Using TensorFlow backend.\n"
     ]
    }
   ],
   "source": [
    "#import all the function needed to build model and manipulate\n",
    "from mido import MidiFile, MidiTrack, Message\n",
    "from keras.layers import LSTM, Dense, Activation, Dropout\n",
    "from keras.preprocessing import sequence\n",
    "from keras.models import Sequential\n",
    "from keras.optimizers import RMSprop\n",
    "from sklearn.preprocessing import MinMaxScaler\n",
    "import numpy as np\n",
    "import mido\n",
    "from keras.models import model_from_json"
   ]
  },
  {
   "cell_type": "code",
   "execution_count": 2,
   "metadata": {
    "collapsed": false
   },
   "outputs": [
    {
     "name": "stdout",
     "output_type": "stream",
     "text": [
      "<class 'mido.midifiles.midifiles.MidiFile'>\n",
      "1\n",
      "191.99980799999977\n",
      "Track 0: nameless\n",
      "Track 1: Track 1\n",
      "Track 2: Track 2\n",
      "Track 3: Track 10\n"
     ]
    }
   ],
   "source": [
    "#What does midi file look like\n",
    "mid = MidiFile('TwoKids.mid') # a Mozart piece\n",
    "print (type(mid))\n",
    "print(mid.type)\n",
    "print(mid.length)\n",
    "for i, track in enumerate(mid.tracks):\n",
    "    print('Track {}: {}'.format(i, track.name))\n",
    "    for msg in track:\n",
    "        if not msg.is_meta:\n",
    "            if msg.channel == 5:\n",
    "                if msg.type == 'note_on':\n",
    "                    print(msg)"
   ]
  },
  {
   "cell_type": "code",
   "execution_count": 3,
   "metadata": {
    "collapsed": false
   },
   "outputs": [],
   "source": [
    "#function to organize the notes in [key velocity duration] format\n",
    "def get_notes(path):\n",
    "    mid = MidiFile(path) \n",
    "    notes = []\n",
    "\n",
    "    time = float(0)\n",
    "    prev = float(0)\n",
    "\n",
    "    for msg in mid:\n",
    "        ### this time is in seconds, not ticks\n",
    "        time += msg.time\n",
    "        #print (msg.time)\n",
    "        if not msg.is_meta:\n",
    "            ### only interested in piano channel\n",
    "            try:\n",
    "                if msg.channel == 1:\n",
    "                    if msg.type == 'note_on':\n",
    "                        #msg: note_on channel=0 note=59 velocity=100 time=1.0128208166666668\n",
    "                        # note in vector form to train on\n",
    "                        note = msg.bytes()\n",
    "                        #print(note)\n",
    "                        # only interested in the note and velocity. note message is in the form of [type, note, velocity]\n",
    "                        note = note[1:3]\n",
    "                        #print (note)\n",
    "                        note.append(time-prev)\n",
    "                        #print(note)\n",
    "                        prev = time\n",
    "                        notes.append(note)\n",
    "            except:\n",
    "                pass\n",
    "    #each note should look like: [59, 100, 3.076924]\n",
    "    return notes"
   ]
  },
  {
   "cell_type": "code",
   "execution_count": 8,
   "metadata": {
    "collapsed": false
   },
   "outputs": [],
   "source": [
    "#go through the country music directory, include all the files\n",
    "import os\n",
    "rootdir = 'midi/country/'\n",
    "notes=[]\n",
    "for subdir, dirs, files in os.walk(rootdir):\n",
    "    for file in files:\n",
    "        #print (file)\n",
    "        path=rootdir+'/'+file\n",
    "        notes+=get_notes(path)\n",
    "#print(notes)"
   ]
  },
  {
   "cell_type": "code",
   "execution_count": 9,
   "metadata": {
    "collapsed": false
   },
   "outputs": [
    {
     "name": "stdout",
     "output_type": "stream",
     "text": [
      "0.42807844936572487\n"
     ]
    }
   ],
   "source": [
    "#check the notes\n",
    "sum=0\n",
    "for note in notes:\n",
    "    sum+=note[2]\n",
    "print(sum/len(notes))\n"
   ]
  },
  {
   "cell_type": "code",
   "execution_count": 10,
   "metadata": {
    "collapsed": false
   },
   "outputs": [],
   "source": [
    "#normalize the data into 0, 1 \n",
    "t = []\n",
    "for note in notes:\n",
    "    note[0] = (note[0]-24)/88\n",
    "    note[1] = note[1]/127\n",
    "    t.append(note[2])\n",
    "max_t = max(t) # scale based on the biggest time of any note\n",
    "for note in notes:\n",
    "    note[2] = note[2]/max_t\n",
    "#print(notes)"
   ]
  },
  {
   "cell_type": "code",
   "execution_count": 11,
   "metadata": {
    "collapsed": true
   },
   "outputs": [],
   "source": [
    "#organize the input and output data into a autoregressive way\n",
    "X = []\n",
    "Y = []\n",
    "n_prev = 30\n",
    "# n_prev notes to predict the (n_prev+1)th note\n",
    "for i in range(len(notes)-n_prev):\n",
    "    x = notes[i:i+n_prev]\n",
    "    y = notes[i+n_prev]\n",
    "    X.append(x)\n",
    "    Y.append(y)\n",
    "# save a seed to do prediction later\n",
    "seed = notes[0:n_prev]"
   ]
  },
  {
   "cell_type": "code",
   "execution_count": 12,
   "metadata": {
    "collapsed": false,
    "scrolled": true
   },
   "outputs": [
    {
     "name": "stdout",
     "output_type": "stream",
     "text": [
      "Build model...\n",
      "_________________________________________________________________\n",
      "Layer (type)                 Output Shape              Param #   \n",
      "=================================================================\n",
      "lstm_1 (LSTM)                (None, 30, 128)           67584     \n",
      "_________________________________________________________________\n",
      "dropout_1 (Dropout)          (None, 30, 128)           0         \n",
      "_________________________________________________________________\n",
      "lstm_2 (LSTM)                (None, 64)                49408     \n",
      "_________________________________________________________________\n",
      "dropout_2 (Dropout)          (None, 64)                0         \n",
      "_________________________________________________________________\n",
      "dense_1 (Dense)              (None, 3)                 195       \n",
      "_________________________________________________________________\n",
      "activation_1 (Activation)    (None, 3)                 0         \n",
      "=================================================================\n",
      "Total params: 117,187.0\n",
      "Trainable params: 117,187.0\n",
      "Non-trainable params: 0.0\n",
      "_________________________________________________________________\n",
      "Epoch 1/5\n",
      "17490/17490 [==============================] - 58s - loss: 0.0407    \n",
      "Epoch 2/5\n",
      "17490/17490 [==============================] - 54s - loss: 0.0356    \n",
      "Epoch 3/5\n",
      "17490/17490 [==============================] - 55s - loss: 0.0336    \n",
      "Epoch 4/5\n",
      "17490/17490 [==============================] - 55s - loss: 0.0308    \n",
      "Epoch 5/5\n",
      "17490/17490 [==============================] - 55s - loss: 0.0222    \n"
     ]
    },
    {
     "data": {
      "text/plain": [
       "<keras.callbacks.History at 0x27c088eb4e0>"
      ]
     },
     "execution_count": 12,
     "metadata": {},
     "output_type": "execute_result"
    }
   ],
   "source": [
    "#Build model, train it 5 epoch (the sample we give is trained 500 epoches)\n",
    "print('Build model...')\n",
    "model = Sequential()\n",
    "model.add(LSTM(128, input_shape=(n_prev, 3), return_sequences=True))\n",
    "model.add(Dropout(0.2))\n",
    "model.add(LSTM(64, input_shape=(n_prev, 3), return_sequences=False))\n",
    "model.add(Dropout(0.2))\n",
    "model.add(Dense(3))\n",
    "model.add(Activation('linear'))\n",
    "\n",
    "optimizer = RMSprop(lr=0.01)\n",
    "model.compile(loss='mse', optimizer='rmsprop')\n",
    "model.summary()\n",
    "model.fit(X, Y, batch_size=300, epochs=5, verbose=1)"
   ]
  },
  {
   "cell_type": "code",
   "execution_count": 16,
   "metadata": {
    "collapsed": false
   },
   "outputs": [
    {
     "name": "stdout",
     "output_type": "stream",
     "text": [
      "Saved model to disk\n"
     ]
    }
   ],
   "source": [
    "# serialize model to JSON\n",
    "model_json = model.to_json()\n",
    "with open(\"model.json\", \"w\") as json_file:\n",
    "    json_file.write(model_json)\n",
    "# serialize weights to HDF5\n",
    "model.save_weights(\"model.h5\")\n",
    "print(\"Saved model to disk\")\n",
    " "
   ]
  },
  {
   "cell_type": "code",
   "execution_count": 10,
   "metadata": {
    "collapsed": false
   },
   "outputs": [
    {
     "name": "stdout",
     "output_type": "stream",
     "text": [
      "Loaded model from disk\n"
     ]
    }
   ],
   "source": [
    "# load json and create model, once we have trained and saved one model, we can use it to generate music later on\n",
    "json_file = open('model.json', 'r')\n",
    "loaded_model_json = json_file.read()\n",
    "json_file.close()\n",
    "model = model_from_json(loaded_model_json)\n",
    "# load weights into new model\n",
    "model.load_weights(\"model.h5\")\n",
    "print(\"Loaded model from disk\")"
   ]
  },
  {
   "cell_type": "code",
   "execution_count": 13,
   "metadata": {
    "collapsed": false
   },
   "outputs": [],
   "source": [
    "#make predictions\n",
    "prediction = []\n",
    "x = seed\n",
    "x = np.expand_dims(x, axis=0)\n",
    "\n",
    "for i in range(3000):\n",
    "    preds = model.predict(x)\n",
    "    #print (preds)\n",
    "    x = np.squeeze(x)\n",
    "    x = np.concatenate((x, preds))\n",
    "    x = x[1:]\n",
    "    x = np.expand_dims(x, axis=0)\n",
    "    preds = np.squeeze(preds)\n",
    "    prediction.append(preds)\n",
    "    \n",
    "#turn data range back to the original range\n",
    "for pred in prediction:\n",
    "    pred[0] = int(88*pred[0] + 24)\n",
    "    pred[1] = int(127*pred[1])\n",
    "    pred[2] *= max_t\n",
    "    # to reject values that will be out of range\n",
    "    if pred[0] < 24:\n",
    "        pred[0] = 24\n",
    "    elif pred[0] > 102:\n",
    "        pred[0] = 102\n",
    "    if pred[1] < 0:\n",
    "        pred[1] = 0\n",
    "    elif pred[1] > 127:\n",
    "        pred[1] = 127\n",
    "    if pred[2] < 0:\n",
    "        pred[2] = 0\n"
   ]
  },
  {
   "cell_type": "code",
   "execution_count": 14,
   "metadata": {
    "collapsed": false
   },
   "outputs": [],
   "source": [
    "#Save the predicted data into a midi file\n",
    "mid = MidiFile()\n",
    "track = MidiTrack()\n",
    "mid.tracks.append(track)\n",
    "\n",
    "for note in prediction:\n",
    "    # 147 means note_on\n",
    "    note = np.insert(note, 0, 147)\n",
    "    bytes = note.astype(int)\n",
    "    #print (note)\n",
    "    msg = Message.from_bytes(bytes[0:3]) \n",
    "    time = int(note[3]/0.001025) # to rescale to midi's delta ticks. arbitrary value for now.\n",
    "    msg.time = time\n",
    "    track.append(msg)\n",
    "\n",
    "mid.save('new_song.mid')"
   ]
  },
  {
   "cell_type": "code",
   "execution_count": null,
   "metadata": {
    "collapsed": true
   },
   "outputs": [],
   "source": []
  }
 ],
 "metadata": {
  "anaconda-cloud": {},
  "kernelspec": {
   "display_name": "Python [conda root]",
   "language": "python",
   "name": "conda-root-py"
  },
  "language_info": {
   "codemirror_mode": {
    "name": "ipython",
    "version": 3
   },
   "file_extension": ".py",
   "mimetype": "text/x-python",
   "name": "python",
   "nbconvert_exporter": "python",
   "pygments_lexer": "ipython3",
   "version": "3.5.2"
  }
 },
 "nbformat": 4,
 "nbformat_minor": 1
}
